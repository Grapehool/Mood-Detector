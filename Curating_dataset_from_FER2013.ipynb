{
 "cells": [
  {
   "cell_type": "markdown",
   "id": "8c83b5d8",
   "metadata": {},
   "source": [
    "# Importing Necessary Libraries"
   ]
  },
  {
   "cell_type": "code",
   "execution_count": null,
   "id": "0bc7c893",
   "metadata": {},
   "outputs": [],
   "source": [
    "# Libraries from PyTorch\n",
    "import torch\n",
    "from torch import nn\n",
    "from torchvision import datasets,transforms,models\n",
    "from torch.utils.data import Dataset,DataLoader\n",
    "\n",
    "# Libraries for data\n",
    "import numpy as np\n",
    "import matplotlib.pyplot as plt\n",
    "import seaborn as sns\n",
    "import pandas as pd\n",
    "\n",
    "# Libraries that makes life easier\n",
    "from timeit import default_timer as timer\n",
    "from pathlib import Path\n",
    "from tqdm.auto import tqdm\n",
    "import opendatasets as od\n",
    "import cv2 as cv\n",
    "from collections import OrderedDict\n",
    "import os\n",
    "from torchinfo import summary\n",
    "\n",
    "# Libraries from Scikit-learn\n",
    "from sklearn.metrics import confusion_matrix, accuracy_score\n",
    "from sklearn.model_selection import train_test_split\n",
    "from sklearn.manifold import TSNE\n",
    "from sklearn.decomposition import TruncatedSVD"
   ]
  },
  {
   "cell_type": "markdown",
   "id": "3df5d0ac",
   "metadata": {},
   "source": [
    "# Getting the Dataset"
   ]
  },
  {
   "cell_type": "code",
   "execution_count": null,
   "id": "eb7dd9f1",
   "metadata": {},
   "outputs": [],
   "source": [
    "if Path(\".\\\\FER-2013\").is_file():\n",
    "    print(\"The dataset already exists. Skipping download...\")\n",
    "else:\n",
    "    print(\"Downloading the datset...\")\n",
    "    od.download(\"https://www.kaggle.com/datasets/msambare/fer2013/data\")"
   ]
  },
  {
   "cell_type": "markdown",
   "id": "dac9e8c9",
   "metadata": {},
   "source": [
    "# Preprocessing and Formatting the Dataset\n",
    "\n",
    "##### We would be clubbing together the `disgust` and `surprise` emotion directories into a single emotion directory `shock` because of the difference in the numbers of files in those directories\n",
    "\n",
    "##### Also we would be reducing the number of files in the `train dataset` so that the model doesn't gets baised into predicting a single emotion\n",
    "##### However, there would be no reduction in the number of files in the `test dataset` only the clubbing of the directories will take place"
   ]
  },
  {
   "cell_type": "markdown",
   "id": "3994dd42",
   "metadata": {},
   "source": [
    "###### Execute the next line of code if you are accessing this jupyter file for the first time"
   ]
  },
  {
   "cell_type": "code",
   "execution_count": null,
   "id": "2b464953",
   "metadata": {},
   "outputs": [],
   "source": [
    "%run dataset_formatting.py"
   ]
  },
  {
   "cell_type": "markdown",
   "id": "337681e3",
   "metadata": {},
   "source": [
    "## Curating a dataset from the FER2013 dataset\n",
    "\n",
    "#### `Step-1` :- we would be converting the images into sketches so that the features becomes obvious for CNN for feature extraction"
   ]
  },
  {
   "cell_type": "code",
   "execution_count": null,
   "id": "0d877bff",
   "metadata": {},
   "outputs": [],
   "source": [
    "train_arr = np.arange(0,2304,1)\n",
    "train_arr = np.append(train_arr, [7])\n",
    "train_arr.shape"
   ]
  },
  {
   "cell_type": "code",
   "execution_count": null,
   "id": "b2a7d3d8",
   "metadata": {},
   "outputs": [],
   "source": [
    "test_arr = np.arange(0,2304,1)\n",
    "test_arr = np.append(test_arr, [7])\n",
    "test_arr.shape"
   ]
  },
  {
   "cell_type": "code",
   "execution_count": null,
   "id": "77797d74",
   "metadata": {},
   "outputs": [],
   "source": [
    "def convert_to_sketch(state,arr):\n",
    "    for emotion in range(0,6):\n",
    "        emotion_dir = f\"./fer2013/{state}/{emotion}\"\n",
    "        for count,file in enumerate(os.listdir(emotion_dir)):\n",
    "            src = f\"{emotion_dir}/{file}\"\n",
    "            img = cv.imread(src)\n",
    "            gray = cv.cvtColor(img,cv.COLOR_BGR2GRAY)\n",
    "            inverted = 255 - gray\n",
    "            blurred = cv.GaussianBlur(inverted,(21,21),0)\n",
    "            drawing = cv.divide(gray,255 - blurred, scale=256)\n",
    "            flat = drawing.flatten()\n",
    "            if state=='train':\n",
    "                flat2 = np.append(flat,[emotion])\n",
    "                arr = np.vstack((arr,flat2))\n",
    "            elif state=='test':\n",
    "                flat3 = np.append(flat,[emotion])\n",
    "                arr = np.vstack((arr,flat3))\n",
    "    return arr"
   ]
  },
  {
   "cell_type": "code",
   "execution_count": null,
   "id": "3c3adc97",
   "metadata": {},
   "outputs": [],
   "source": [
    "states = ['train','test']\n",
    "for state in states:\n",
    "    train_arr = convert_to_sketch(state,train_arr)\n",
    "    test_arr = convert_to_sketch(state,test_arr)"
   ]
  },
  {
   "cell_type": "code",
   "execution_count": null,
   "id": "733fd6b6",
   "metadata": {},
   "outputs": [],
   "source": [
    "train_arr.shape"
   ]
  },
  {
   "cell_type": "code",
   "execution_count": null,
   "id": "096c9bd2",
   "metadata": {},
   "outputs": [],
   "source": [
    "test_arr.shape"
   ]
  },
  {
   "cell_type": "code",
   "execution_count": null,
   "id": "9228a598",
   "metadata": {},
   "outputs": [],
   "source": [
    "new_arr_train = np.delete(train_arr,0,axis=0)\n",
    "new_arr_train"
   ]
  },
  {
   "cell_type": "code",
   "execution_count": null,
   "id": "d03d9a78",
   "metadata": {},
   "outputs": [],
   "source": [
    "new_arr_test = np.delete(test_arr,0,axis=0)\n",
    "new_arr_test"
   ]
  },
  {
   "cell_type": "markdown",
   "id": "7ebfeeb7",
   "metadata": {},
   "source": [
    "### Visualizing the dataset using t-SNE"
   ]
  },
  {
   "cell_type": "code",
   "execution_count": null,
   "id": "d5cc6c73",
   "metadata": {},
   "outputs": [],
   "source": [
    "x = new_arr_train[:,:-1]\n",
    "y = new_arr_train[:,-1]"
   ]
  },
  {
   "cell_type": "code",
   "execution_count": null,
   "id": "2f5246dd",
   "metadata": {},
   "outputs": [],
   "source": [
    "len(x),len(y)"
   ]
  },
  {
   "cell_type": "code",
   "execution_count": null,
   "id": "fddb315d",
   "metadata": {},
   "outputs": [],
   "source": [
    "tsvd = TruncatedSVD(n_components=50).fit_transform(x)\n",
    "tsne_res = TSNE(n_components=2, n_jobs = -1, random_state = 42).fit_transform(tsvd)"
   ]
  },
  {
   "cell_type": "code",
   "execution_count": null,
   "id": "ed815690",
   "metadata": {},
   "outputs": [],
   "source": [
    "plt.figure(figsize=(7, 7))\n",
    "plt.title(\"Visualization of t-SNE results on FER dataset \", fontsize=24, weight='bold')\n",
    "sns.scatterplot(x=tsne_res[:, 0], y=tsne_res[:, 1], hue=y, palette=\"bright\", legend=\"full\")\n",
    "plt.xticks(fontsize=14)\n",
    "plt.yticks(fontsize=14)\n",
    "plt.xlabel(\"Component 1\", fontsize=16)\n",
    "plt.ylabel(\"Component 2\", fontsize=16)\n",
    "plt.legend(fontsize=16);"
   ]
  },
  {
   "cell_type": "markdown",
   "id": "7ee6849f",
   "metadata": {},
   "source": [
    "### Fitting the emotions into clusters"
   ]
  },
  {
   "cell_type": "code",
   "execution_count": null,
   "id": "2e345ae5",
   "metadata": {},
   "outputs": [],
   "source": [
    "cluster = ['c1','c2','c3','c4','c5','c6']\n",
    "emotions = ['angry','fear','happy','neutral','sad','shock']"
   ]
  },
  {
   "cell_type": "code",
   "execution_count": null,
   "id": "fb842400",
   "metadata": {},
   "outputs": [],
   "source": [
    "def making_clusters(x,y,emotion_no):\n",
    "    emotion_c1 = 0\n",
    "    emotion_c2 = 0\n",
    "    emotion_c3 = 0\n",
    "    emotion_c4 = 0\n",
    "    emotion_c5 = 0\n",
    "    emotion_c6 = 0\n",
    "    emotion_C1 = []\n",
    "    emotion_C2 = []\n",
    "    emotion_C3 = []\n",
    "    emotion_C4 = []\n",
    "    emotion_C5 = []\n",
    "    emotion_C6 = []\n",
    "    for i in range(0,28778):\n",
    "        if y[i]==emotion_no:\n",
    "            y1 = tsne_res[i:i+1, 1]\n",
    "            x1 = tsne_res[i:i+1, 0]\n",
    "            if ((y1 - (1.7320*x1)) <= 0) and ((y1 >= 0)):\n",
    "                emotion_c1 = 1 + emotion_c1\n",
    "                emotion_C1.append(i)\n",
    "            elif ((y1 - (1.7320*x1))>=0) and ((y1 + (1.7320*x1))>=0):\n",
    "                emotion_c2 = 1 + emotion_c2\n",
    "                emotion_C2.append(i)\n",
    "            elif ((y1 + (1.7320*x1))<=0) and ((y1 >= 0)):\n",
    "                emotion_c3 = 1 + emotion_c3\n",
    "                emotion_C3.append(i)\n",
    "            elif ((y1 - (1.7320*x1)) >= 0) and ((y1 <= 0)):\n",
    "                emotion_c4 = 1 + emotion_c4\n",
    "                emotion_C4.append(i)\n",
    "            elif ((y1 - (1.7320*x1)) <= 0) and ((y1 + (1.7320*x1))<=0):\n",
    "                emotion_c5 = 1 + emotion_c5\n",
    "                emotion_C5.append(i)\n",
    "            elif  ((y1 + (1.7320*x1))>=0) and ((y1 <= 0)):\n",
    "                emotion_c6 = 1 + emotion_c6\n",
    "                emotion_C6.append(i)\n",
    "    emotion_c = [emotion_c1,emotion_c2,emotion_c3,emotion_c4,emotion_c5,emotion_c6]\n",
    "    emotion_C = [emotion_C1,emotion_C2,emotion_C3,emotion_C4,emotion_C5,emotion_C6]\n",
    "    \n",
    "    return emotion_c,emotion_C"
   ]
  },
  {
   "cell_type": "code",
   "execution_count": null,
   "id": "d54865ce",
   "metadata": {},
   "outputs": [],
   "source": [
    "angry_c , angry_C = making_clusters(x,y,0)\n",
    "fear_c , fear_C = making_clusters(x,y,1)\n",
    "happy_c , happy_C = making_clusters(x,y,2)\n",
    "neutral_c , neutral_C = making_clusters(x,y,3)\n",
    "sad_c , sad_C = making_clusters(x,y,4)\n",
    "shock_c , shock_C = making_clusters(x,y,5)"
   ]
  },
  {
   "cell_type": "markdown",
   "id": "00263a57",
   "metadata": {},
   "source": [
    "### Visualizing the clusters obtained"
   ]
  },
  {
   "cell_type": "code",
   "execution_count": null,
   "id": "c986ddb6",
   "metadata": {},
   "outputs": [],
   "source": [
    "plt.figure(figsize=(14,15))\n",
    "plt.subplot(321)\n",
    "plt.grid()\n",
    "sns.barplot(x=cluster,y=angry_c)\n",
    "plt.title(label=\"best cluster area for angry\")\n",
    "plt.subplot(322)\n",
    "plt.grid()\n",
    "sns.barplot(x=cluster,y=fear_c)\n",
    "plt.title(label=\"best cluster area for fear\")\n",
    "plt.subplot(323)\n",
    "plt.grid()\n",
    "sns.barplot(x=cluster,y=happy_c)\n",
    "plt.title(label=\"best cluster area for happy\")\n",
    "plt.subplot(324)\n",
    "plt.grid()\n",
    "sns.barplot(x=cluster,y=neutral_c)\n",
    "plt.title(label=\"best cluster area for neutral\")\n",
    "plt.subplot(325)\n",
    "plt.grid()\n",
    "sns.barplot(x=cluster,y=sad_c)\n",
    "plt.title(label=\"best cluster area for sad\")\n",
    "plt.subplot(326)\n",
    "plt.grid()\n",
    "sns.barplot(x=cluster,y=shock_c)\n",
    "plt.title(label=\"best cluster area for shock\")\n",
    "plt.show()"
   ]
  },
  {
   "cell_type": "markdown",
   "id": "4a065937",
   "metadata": {},
   "source": [
    "### Creating an array of the most suitable clusters"
   ]
  },
  {
   "cell_type": "code",
   "execution_count": null,
   "id": "5ce8b896",
   "metadata": {},
   "outputs": [],
   "source": [
    "listd = angry_C[0] + angry_C[1] + angry_C[2] + angry_C[3] + angry_C[4] + fear_C[3] + fear_C[1] + fear_C[2] + fear_C[4] + fear_C[5] + happy_C[0] + happy_C[1] + happy_C[3] + happy_C[2] + happy_C[5] + neutral_C[1] + neutral_C[2] + neutral_C[0] + neutral_C[4] + neutral_C[5] + sad_C[0] + sad_C[1] + sad_C[3] + sad_C[4] + sad_C[5] + shock_C[0] + shock_C[4] + shock_C[2] + shock_C[3] + shock_C[5]\n",
    "len(listd)"
   ]
  },
  {
   "cell_type": "code",
   "execution_count": null,
   "id": "8a22a6cf",
   "metadata": {},
   "outputs": [],
   "source": [
    "new_arr1 = np.delete(new_arr_train,listd,axis=0)\n",
    "new_arr1 , new_arr1.shape"
   ]
  },
  {
   "cell_type": "markdown",
   "id": "f307ba35",
   "metadata": {},
   "source": [
    "### Visualizing the newly formatted dataset using t-SNE"
   ]
  },
  {
   "cell_type": "code",
   "execution_count": null,
   "id": "9fbbb286",
   "metadata": {},
   "outputs": [],
   "source": [
    "X1 = new_arr1[:,:-1]\n",
    "Y1 = new_arr1[:,-1]"
   ]
  },
  {
   "cell_type": "code",
   "execution_count": null,
   "id": "e3a34644",
   "metadata": {},
   "outputs": [],
   "source": [
    "tsvd1 = TruncatedSVD(n_components=50).fit_transform(X1)\n",
    "tsne_res1 = TSNE(n_components=2, n_jobs = -1, random_state = 42).fit_transform(tsvd1)"
   ]
  },
  {
   "cell_type": "code",
   "execution_count": null,
   "id": "8d8268e0",
   "metadata": {},
   "outputs": [],
   "source": [
    "plt.figure(figsize=(7, 7))\n",
    "plt.title(\"Visualization of t-SNE results on FER dataset \", fontsize=24, weight='bold')\n",
    "sns.scatterplot(x=tsne_res1[:, 0], y=tsne_res1[:, 1], hue=Y1, palette=\"bright\", legend=\"full\")\n",
    "plt.xticks(fontsize=14)\n",
    "plt.yticks(fontsize=14)\n",
    "plt.xlabel(\"Component 1\", fontsize=16)\n",
    "plt.ylabel(\"Component 2\", fontsize=16)\n",
    "plt.legend(fontsize=16);"
   ]
  },
  {
   "cell_type": "markdown",
   "id": "1e2ec47a",
   "metadata": {},
   "source": [
    "### Creating a DataFrame of the newly formatted data"
   ]
  },
  {
   "cell_type": "code",
   "execution_count": null,
   "id": "077db674",
   "metadata": {},
   "outputs": [],
   "source": [
    "column = []\n",
    "for i in range(1,49):\n",
    "    for j in range(1,49):\n",
    "        column.append(f\"{i}x{j}\")\n",
    "\n",
    "column.append(\"label\")"
   ]
  },
  {
   "cell_type": "code",
   "execution_count": null,
   "id": "01d5a857",
   "metadata": {},
   "outputs": [],
   "source": [
    "df_train = pd.DataFrame(new_arr1, columns =column) \n",
    "print(\"\\nPandas DataFrame: \") \n",
    "df_train"
   ]
  },
  {
   "cell_type": "code",
   "execution_count": null,
   "id": "fd76d0b0",
   "metadata": {},
   "outputs": [],
   "source": [
    "df_test = pd.DataFrame(test_arr,columns=column)\n",
    "print(\"\\nPandas DataFrame: \")\n",
    "df_test"
   ]
  },
  {
   "cell_type": "markdown",
   "id": "14c68663",
   "metadata": {},
   "source": [
    "### Saving the curated dataset"
   ]
  },
  {
   "cell_type": "code",
   "execution_count": null,
   "id": "b0f52655",
   "metadata": {},
   "outputs": [],
   "source": [
    "save_dir = './FER_curated_dataset/'\n",
    "os.makedirs(save_dir,exist_ok=True)\n",
    "df_train.to_csv(save_dir + 'train.csv')\n",
    "df_test.to_csv(save_dir + 'test.csv')"
   ]
  }
 ],
 "metadata": {
  "kernelspec": {
   "display_name": "Python 3 (ipykernel)",
   "language": "python",
   "name": "python3"
  },
  "language_info": {
   "codemirror_mode": {
    "name": "ipython",
    "version": 3
   },
   "file_extension": ".py",
   "mimetype": "text/x-python",
   "name": "python",
   "nbconvert_exporter": "python",
   "pygments_lexer": "ipython3",
   "version": "3.11.4"
  }
 },
 "nbformat": 4,
 "nbformat_minor": 5
}
