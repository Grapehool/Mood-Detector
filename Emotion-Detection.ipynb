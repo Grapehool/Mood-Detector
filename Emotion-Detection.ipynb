{
 "cells": [
  {
   "cell_type": "markdown",
   "id": "07394c29",
   "metadata": {},
   "source": [
    "# Importing Necessary Libraries"
   ]
  },
  {
   "cell_type": "code",
   "execution_count": 1,
   "id": "597579e0",
   "metadata": {},
   "outputs": [],
   "source": [
    "# Libraries from PyTorch\n",
    "import torch\n",
    "from torch import nn\n",
    "from torchvision import datasets,transforms,models\n",
    "from torch.utils.data import Dataset,DataLoader\n",
    "\n",
    "# Libraries for data\n",
    "import numpy as np\n",
    "import matplotlib.pyplot as plt\n",
    "import seaborn as sns\n",
    "import pandas as pd\n",
    "\n",
    "# Libraries that makes life easier\n",
    "from timeit import default_timer as timer\n",
    "from pathlib import Path\n",
    "from tqdm.auto import tqdm\n",
    "import opendatasets as od\n",
    "import cv2 as cv\n",
    "from collections import OrderedDict\n",
    "import os\n",
    "from torchinfo import summary\n",
    "\n",
    "# Libraries from Scikit-learn\n",
    "from sklearn.metrics import confusion_matrix, accuracy_score\n",
    "from sklearn.model_selection import train_test_split\n",
    "from sklearn.manifold import TSNE\n",
    "from sklearn.decomposition import TruncatedSVD"
   ]
  },
  {
   "cell_type": "markdown",
   "id": "21ea3df3",
   "metadata": {},
   "source": [
    "###### Execute this next line of code if you are accessing this notebook for the first time"
   ]
  },
  {
   "cell_type": "code",
   "execution_count": 2,
   "id": "a039be1d",
   "metadata": {},
   "outputs": [],
   "source": [
    "# %run Curating_dataset_from_FER2013"
   ]
  },
  {
   "cell_type": "markdown",
   "id": "eeb76b95",
   "metadata": {},
   "source": [
    "# Loading the curated dataset"
   ]
  },
  {
   "cell_type": "code",
   "execution_count": 3,
   "id": "423f4ef0",
   "metadata": {
    "scrolled": false
   },
   "outputs": [
    {
     "data": {
      "text/html": [
       "<div>\n",
       "<style scoped>\n",
       "    .dataframe tbody tr th:only-of-type {\n",
       "        vertical-align: middle;\n",
       "    }\n",
       "\n",
       "    .dataframe tbody tr th {\n",
       "        vertical-align: top;\n",
       "    }\n",
       "\n",
       "    .dataframe thead th {\n",
       "        text-align: right;\n",
       "    }\n",
       "</style>\n",
       "<table border=\"1\" class=\"dataframe\">\n",
       "  <thead>\n",
       "    <tr style=\"text-align: right;\">\n",
       "      <th></th>\n",
       "      <th>Unnamed: 0</th>\n",
       "      <th>1x1</th>\n",
       "      <th>1x2</th>\n",
       "      <th>1x3</th>\n",
       "      <th>1x4</th>\n",
       "      <th>1x5</th>\n",
       "      <th>1x6</th>\n",
       "      <th>1x7</th>\n",
       "      <th>1x8</th>\n",
       "      <th>1x9</th>\n",
       "      <th>...</th>\n",
       "      <th>48x40</th>\n",
       "      <th>48x41</th>\n",
       "      <th>48x42</th>\n",
       "      <th>48x43</th>\n",
       "      <th>48x44</th>\n",
       "      <th>48x45</th>\n",
       "      <th>48x46</th>\n",
       "      <th>48x47</th>\n",
       "      <th>48x48</th>\n",
       "      <th>label</th>\n",
       "    </tr>\n",
       "  </thead>\n",
       "  <tbody>\n",
       "    <tr>\n",
       "      <th>0</th>\n",
       "      <td>0</td>\n",
       "      <td>255</td>\n",
       "      <td>255</td>\n",
       "      <td>255</td>\n",
       "      <td>156</td>\n",
       "      <td>213</td>\n",
       "      <td>255</td>\n",
       "      <td>255</td>\n",
       "      <td>128</td>\n",
       "      <td>75</td>\n",
       "      <td>...</td>\n",
       "      <td>255</td>\n",
       "      <td>255</td>\n",
       "      <td>255</td>\n",
       "      <td>255</td>\n",
       "      <td>255</td>\n",
       "      <td>255</td>\n",
       "      <td>124</td>\n",
       "      <td>205</td>\n",
       "      <td>205</td>\n",
       "      <td>0</td>\n",
       "    </tr>\n",
       "    <tr>\n",
       "      <th>1</th>\n",
       "      <td>1</td>\n",
       "      <td>177</td>\n",
       "      <td>182</td>\n",
       "      <td>161</td>\n",
       "      <td>183</td>\n",
       "      <td>230</td>\n",
       "      <td>255</td>\n",
       "      <td>252</td>\n",
       "      <td>197</td>\n",
       "      <td>150</td>\n",
       "      <td>...</td>\n",
       "      <td>255</td>\n",
       "      <td>255</td>\n",
       "      <td>217</td>\n",
       "      <td>251</td>\n",
       "      <td>222</td>\n",
       "      <td>83</td>\n",
       "      <td>107</td>\n",
       "      <td>255</td>\n",
       "      <td>248</td>\n",
       "      <td>0</td>\n",
       "    </tr>\n",
       "    <tr>\n",
       "      <th>2</th>\n",
       "      <td>2</td>\n",
       "      <td>185</td>\n",
       "      <td>165</td>\n",
       "      <td>164</td>\n",
       "      <td>150</td>\n",
       "      <td>110</td>\n",
       "      <td>120</td>\n",
       "      <td>144</td>\n",
       "      <td>135</td>\n",
       "      <td>118</td>\n",
       "      <td>...</td>\n",
       "      <td>243</td>\n",
       "      <td>240</td>\n",
       "      <td>248</td>\n",
       "      <td>255</td>\n",
       "      <td>255</td>\n",
       "      <td>255</td>\n",
       "      <td>255</td>\n",
       "      <td>255</td>\n",
       "      <td>79</td>\n",
       "      <td>0</td>\n",
       "    </tr>\n",
       "    <tr>\n",
       "      <th>3</th>\n",
       "      <td>3</td>\n",
       "      <td>255</td>\n",
       "      <td>255</td>\n",
       "      <td>255</td>\n",
       "      <td>255</td>\n",
       "      <td>255</td>\n",
       "      <td>255</td>\n",
       "      <td>255</td>\n",
       "      <td>255</td>\n",
       "      <td>255</td>\n",
       "      <td>...</td>\n",
       "      <td>111</td>\n",
       "      <td>147</td>\n",
       "      <td>176</td>\n",
       "      <td>203</td>\n",
       "      <td>251</td>\n",
       "      <td>246</td>\n",
       "      <td>234</td>\n",
       "      <td>188</td>\n",
       "      <td>76</td>\n",
       "      <td>0</td>\n",
       "    </tr>\n",
       "    <tr>\n",
       "      <th>4</th>\n",
       "      <td>4</td>\n",
       "      <td>15</td>\n",
       "      <td>28</td>\n",
       "      <td>56</td>\n",
       "      <td>89</td>\n",
       "      <td>204</td>\n",
       "      <td>255</td>\n",
       "      <td>255</td>\n",
       "      <td>255</td>\n",
       "      <td>255</td>\n",
       "      <td>...</td>\n",
       "      <td>255</td>\n",
       "      <td>205</td>\n",
       "      <td>128</td>\n",
       "      <td>192</td>\n",
       "      <td>255</td>\n",
       "      <td>255</td>\n",
       "      <td>192</td>\n",
       "      <td>255</td>\n",
       "      <td>171</td>\n",
       "      <td>0</td>\n",
       "    </tr>\n",
       "    <tr>\n",
       "      <th>...</th>\n",
       "      <td>...</td>\n",
       "      <td>...</td>\n",
       "      <td>...</td>\n",
       "      <td>...</td>\n",
       "      <td>...</td>\n",
       "      <td>...</td>\n",
       "      <td>...</td>\n",
       "      <td>...</td>\n",
       "      <td>...</td>\n",
       "      <td>...</td>\n",
       "      <td>...</td>\n",
       "      <td>...</td>\n",
       "      <td>...</td>\n",
       "      <td>...</td>\n",
       "      <td>...</td>\n",
       "      <td>...</td>\n",
       "      <td>...</td>\n",
       "      <td>...</td>\n",
       "      <td>...</td>\n",
       "      <td>...</td>\n",
       "      <td>...</td>\n",
       "    </tr>\n",
       "    <tr>\n",
       "      <th>4608</th>\n",
       "      <td>4608</td>\n",
       "      <td>255</td>\n",
       "      <td>255</td>\n",
       "      <td>255</td>\n",
       "      <td>255</td>\n",
       "      <td>255</td>\n",
       "      <td>255</td>\n",
       "      <td>255</td>\n",
       "      <td>255</td>\n",
       "      <td>255</td>\n",
       "      <td>...</td>\n",
       "      <td>255</td>\n",
       "      <td>255</td>\n",
       "      <td>255</td>\n",
       "      <td>255</td>\n",
       "      <td>210</td>\n",
       "      <td>157</td>\n",
       "      <td>127</td>\n",
       "      <td>135</td>\n",
       "      <td>155</td>\n",
       "      <td>5</td>\n",
       "    </tr>\n",
       "    <tr>\n",
       "      <th>4609</th>\n",
       "      <td>4609</td>\n",
       "      <td>103</td>\n",
       "      <td>160</td>\n",
       "      <td>200</td>\n",
       "      <td>227</td>\n",
       "      <td>243</td>\n",
       "      <td>242</td>\n",
       "      <td>255</td>\n",
       "      <td>255</td>\n",
       "      <td>255</td>\n",
       "      <td>...</td>\n",
       "      <td>255</td>\n",
       "      <td>253</td>\n",
       "      <td>253</td>\n",
       "      <td>251</td>\n",
       "      <td>251</td>\n",
       "      <td>250</td>\n",
       "      <td>250</td>\n",
       "      <td>253</td>\n",
       "      <td>254</td>\n",
       "      <td>5</td>\n",
       "    </tr>\n",
       "    <tr>\n",
       "      <th>4610</th>\n",
       "      <td>4610</td>\n",
       "      <td>255</td>\n",
       "      <td>255</td>\n",
       "      <td>255</td>\n",
       "      <td>255</td>\n",
       "      <td>255</td>\n",
       "      <td>244</td>\n",
       "      <td>238</td>\n",
       "      <td>240</td>\n",
       "      <td>252</td>\n",
       "      <td>...</td>\n",
       "      <td>255</td>\n",
       "      <td>255</td>\n",
       "      <td>255</td>\n",
       "      <td>214</td>\n",
       "      <td>255</td>\n",
       "      <td>255</td>\n",
       "      <td>255</td>\n",
       "      <td>255</td>\n",
       "      <td>255</td>\n",
       "      <td>5</td>\n",
       "    </tr>\n",
       "    <tr>\n",
       "      <th>4611</th>\n",
       "      <td>4611</td>\n",
       "      <td>209</td>\n",
       "      <td>161</td>\n",
       "      <td>128</td>\n",
       "      <td>119</td>\n",
       "      <td>149</td>\n",
       "      <td>146</td>\n",
       "      <td>176</td>\n",
       "      <td>201</td>\n",
       "      <td>212</td>\n",
       "      <td>...</td>\n",
       "      <td>255</td>\n",
       "      <td>255</td>\n",
       "      <td>255</td>\n",
       "      <td>255</td>\n",
       "      <td>255</td>\n",
       "      <td>255</td>\n",
       "      <td>255</td>\n",
       "      <td>255</td>\n",
       "      <td>255</td>\n",
       "      <td>5</td>\n",
       "    </tr>\n",
       "    <tr>\n",
       "      <th>4612</th>\n",
       "      <td>4612</td>\n",
       "      <td>212</td>\n",
       "      <td>213</td>\n",
       "      <td>215</td>\n",
       "      <td>194</td>\n",
       "      <td>164</td>\n",
       "      <td>163</td>\n",
       "      <td>212</td>\n",
       "      <td>253</td>\n",
       "      <td>255</td>\n",
       "      <td>...</td>\n",
       "      <td>255</td>\n",
       "      <td>255</td>\n",
       "      <td>255</td>\n",
       "      <td>255</td>\n",
       "      <td>255</td>\n",
       "      <td>254</td>\n",
       "      <td>244</td>\n",
       "      <td>255</td>\n",
       "      <td>254</td>\n",
       "      <td>5</td>\n",
       "    </tr>\n",
       "  </tbody>\n",
       "</table>\n",
       "<p>4613 rows × 2306 columns</p>\n",
       "</div>"
      ],
      "text/plain": [
       "      Unnamed: 0  1x1  1x2  1x3  1x4  1x5  1x6  1x7  1x8  1x9  ...  48x40  \\\n",
       "0              0  255  255  255  156  213  255  255  128   75  ...    255   \n",
       "1              1  177  182  161  183  230  255  252  197  150  ...    255   \n",
       "2              2  185  165  164  150  110  120  144  135  118  ...    243   \n",
       "3              3  255  255  255  255  255  255  255  255  255  ...    111   \n",
       "4              4   15   28   56   89  204  255  255  255  255  ...    255   \n",
       "...          ...  ...  ...  ...  ...  ...  ...  ...  ...  ...  ...    ...   \n",
       "4608        4608  255  255  255  255  255  255  255  255  255  ...    255   \n",
       "4609        4609  103  160  200  227  243  242  255  255  255  ...    255   \n",
       "4610        4610  255  255  255  255  255  244  238  240  252  ...    255   \n",
       "4611        4611  209  161  128  119  149  146  176  201  212  ...    255   \n",
       "4612        4612  212  213  215  194  164  163  212  253  255  ...    255   \n",
       "\n",
       "      48x41  48x42  48x43  48x44  48x45  48x46  48x47  48x48  label  \n",
       "0       255    255    255    255    255    124    205    205      0  \n",
       "1       255    217    251    222     83    107    255    248      0  \n",
       "2       240    248    255    255    255    255    255     79      0  \n",
       "3       147    176    203    251    246    234    188     76      0  \n",
       "4       205    128    192    255    255    192    255    171      0  \n",
       "...     ...    ...    ...    ...    ...    ...    ...    ...    ...  \n",
       "4608    255    255    255    210    157    127    135    155      5  \n",
       "4609    253    253    251    251    250    250    253    254      5  \n",
       "4610    255    255    214    255    255    255    255    255      5  \n",
       "4611    255    255    255    255    255    255    255    255      5  \n",
       "4612    255    255    255    255    254    244    255    254      5  \n",
       "\n",
       "[4613 rows x 2306 columns]"
      ]
     },
     "execution_count": 3,
     "metadata": {},
     "output_type": "execute_result"
    }
   ],
   "source": [
    "# Load and preprocess data\n",
    "df = pd.read_csv(\"./FER_curated_dataset.csv\")\n",
    "df"
   ]
  },
  {
   "cell_type": "code",
   "execution_count": 4,
   "id": "11c2b644",
   "metadata": {
    "scrolled": false
   },
   "outputs": [
    {
     "data": {
      "text/html": [
       "<div>\n",
       "<style scoped>\n",
       "    .dataframe tbody tr th:only-of-type {\n",
       "        vertical-align: middle;\n",
       "    }\n",
       "\n",
       "    .dataframe tbody tr th {\n",
       "        vertical-align: top;\n",
       "    }\n",
       "\n",
       "    .dataframe thead th {\n",
       "        text-align: right;\n",
       "    }\n",
       "</style>\n",
       "<table border=\"1\" class=\"dataframe\">\n",
       "  <thead>\n",
       "    <tr style=\"text-align: right;\">\n",
       "      <th></th>\n",
       "      <th>1x1</th>\n",
       "      <th>1x2</th>\n",
       "      <th>1x3</th>\n",
       "      <th>1x4</th>\n",
       "      <th>1x5</th>\n",
       "      <th>1x6</th>\n",
       "      <th>1x7</th>\n",
       "      <th>1x8</th>\n",
       "      <th>1x9</th>\n",
       "      <th>1x10</th>\n",
       "      <th>...</th>\n",
       "      <th>48x40</th>\n",
       "      <th>48x41</th>\n",
       "      <th>48x42</th>\n",
       "      <th>48x43</th>\n",
       "      <th>48x44</th>\n",
       "      <th>48x45</th>\n",
       "      <th>48x46</th>\n",
       "      <th>48x47</th>\n",
       "      <th>48x48</th>\n",
       "      <th>label</th>\n",
       "    </tr>\n",
       "  </thead>\n",
       "  <tbody>\n",
       "    <tr>\n",
       "      <th>0</th>\n",
       "      <td>255</td>\n",
       "      <td>255</td>\n",
       "      <td>255</td>\n",
       "      <td>156</td>\n",
       "      <td>213</td>\n",
       "      <td>255</td>\n",
       "      <td>255</td>\n",
       "      <td>128</td>\n",
       "      <td>75</td>\n",
       "      <td>167</td>\n",
       "      <td>...</td>\n",
       "      <td>255</td>\n",
       "      <td>255</td>\n",
       "      <td>255</td>\n",
       "      <td>255</td>\n",
       "      <td>255</td>\n",
       "      <td>255</td>\n",
       "      <td>124</td>\n",
       "      <td>205</td>\n",
       "      <td>205</td>\n",
       "      <td>0</td>\n",
       "    </tr>\n",
       "    <tr>\n",
       "      <th>1</th>\n",
       "      <td>177</td>\n",
       "      <td>182</td>\n",
       "      <td>161</td>\n",
       "      <td>183</td>\n",
       "      <td>230</td>\n",
       "      <td>255</td>\n",
       "      <td>252</td>\n",
       "      <td>197</td>\n",
       "      <td>150</td>\n",
       "      <td>141</td>\n",
       "      <td>...</td>\n",
       "      <td>255</td>\n",
       "      <td>255</td>\n",
       "      <td>217</td>\n",
       "      <td>251</td>\n",
       "      <td>222</td>\n",
       "      <td>83</td>\n",
       "      <td>107</td>\n",
       "      <td>255</td>\n",
       "      <td>248</td>\n",
       "      <td>0</td>\n",
       "    </tr>\n",
       "    <tr>\n",
       "      <th>2</th>\n",
       "      <td>185</td>\n",
       "      <td>165</td>\n",
       "      <td>164</td>\n",
       "      <td>150</td>\n",
       "      <td>110</td>\n",
       "      <td>120</td>\n",
       "      <td>144</td>\n",
       "      <td>135</td>\n",
       "      <td>118</td>\n",
       "      <td>100</td>\n",
       "      <td>...</td>\n",
       "      <td>243</td>\n",
       "      <td>240</td>\n",
       "      <td>248</td>\n",
       "      <td>255</td>\n",
       "      <td>255</td>\n",
       "      <td>255</td>\n",
       "      <td>255</td>\n",
       "      <td>255</td>\n",
       "      <td>79</td>\n",
       "      <td>0</td>\n",
       "    </tr>\n",
       "    <tr>\n",
       "      <th>3</th>\n",
       "      <td>255</td>\n",
       "      <td>255</td>\n",
       "      <td>255</td>\n",
       "      <td>255</td>\n",
       "      <td>255</td>\n",
       "      <td>255</td>\n",
       "      <td>255</td>\n",
       "      <td>255</td>\n",
       "      <td>255</td>\n",
       "      <td>255</td>\n",
       "      <td>...</td>\n",
       "      <td>111</td>\n",
       "      <td>147</td>\n",
       "      <td>176</td>\n",
       "      <td>203</td>\n",
       "      <td>251</td>\n",
       "      <td>246</td>\n",
       "      <td>234</td>\n",
       "      <td>188</td>\n",
       "      <td>76</td>\n",
       "      <td>0</td>\n",
       "    </tr>\n",
       "    <tr>\n",
       "      <th>4</th>\n",
       "      <td>15</td>\n",
       "      <td>28</td>\n",
       "      <td>56</td>\n",
       "      <td>89</td>\n",
       "      <td>204</td>\n",
       "      <td>255</td>\n",
       "      <td>255</td>\n",
       "      <td>255</td>\n",
       "      <td>255</td>\n",
       "      <td>255</td>\n",
       "      <td>...</td>\n",
       "      <td>255</td>\n",
       "      <td>205</td>\n",
       "      <td>128</td>\n",
       "      <td>192</td>\n",
       "      <td>255</td>\n",
       "      <td>255</td>\n",
       "      <td>192</td>\n",
       "      <td>255</td>\n",
       "      <td>171</td>\n",
       "      <td>0</td>\n",
       "    </tr>\n",
       "    <tr>\n",
       "      <th>...</th>\n",
       "      <td>...</td>\n",
       "      <td>...</td>\n",
       "      <td>...</td>\n",
       "      <td>...</td>\n",
       "      <td>...</td>\n",
       "      <td>...</td>\n",
       "      <td>...</td>\n",
       "      <td>...</td>\n",
       "      <td>...</td>\n",
       "      <td>...</td>\n",
       "      <td>...</td>\n",
       "      <td>...</td>\n",
       "      <td>...</td>\n",
       "      <td>...</td>\n",
       "      <td>...</td>\n",
       "      <td>...</td>\n",
       "      <td>...</td>\n",
       "      <td>...</td>\n",
       "      <td>...</td>\n",
       "      <td>...</td>\n",
       "      <td>...</td>\n",
       "    </tr>\n",
       "    <tr>\n",
       "      <th>4608</th>\n",
       "      <td>255</td>\n",
       "      <td>255</td>\n",
       "      <td>255</td>\n",
       "      <td>255</td>\n",
       "      <td>255</td>\n",
       "      <td>255</td>\n",
       "      <td>255</td>\n",
       "      <td>255</td>\n",
       "      <td>255</td>\n",
       "      <td>255</td>\n",
       "      <td>...</td>\n",
       "      <td>255</td>\n",
       "      <td>255</td>\n",
       "      <td>255</td>\n",
       "      <td>255</td>\n",
       "      <td>210</td>\n",
       "      <td>157</td>\n",
       "      <td>127</td>\n",
       "      <td>135</td>\n",
       "      <td>155</td>\n",
       "      <td>5</td>\n",
       "    </tr>\n",
       "    <tr>\n",
       "      <th>4609</th>\n",
       "      <td>103</td>\n",
       "      <td>160</td>\n",
       "      <td>200</td>\n",
       "      <td>227</td>\n",
       "      <td>243</td>\n",
       "      <td>242</td>\n",
       "      <td>255</td>\n",
       "      <td>255</td>\n",
       "      <td>255</td>\n",
       "      <td>255</td>\n",
       "      <td>...</td>\n",
       "      <td>255</td>\n",
       "      <td>253</td>\n",
       "      <td>253</td>\n",
       "      <td>251</td>\n",
       "      <td>251</td>\n",
       "      <td>250</td>\n",
       "      <td>250</td>\n",
       "      <td>253</td>\n",
       "      <td>254</td>\n",
       "      <td>5</td>\n",
       "    </tr>\n",
       "    <tr>\n",
       "      <th>4610</th>\n",
       "      <td>255</td>\n",
       "      <td>255</td>\n",
       "      <td>255</td>\n",
       "      <td>255</td>\n",
       "      <td>255</td>\n",
       "      <td>244</td>\n",
       "      <td>238</td>\n",
       "      <td>240</td>\n",
       "      <td>252</td>\n",
       "      <td>255</td>\n",
       "      <td>...</td>\n",
       "      <td>255</td>\n",
       "      <td>255</td>\n",
       "      <td>255</td>\n",
       "      <td>214</td>\n",
       "      <td>255</td>\n",
       "      <td>255</td>\n",
       "      <td>255</td>\n",
       "      <td>255</td>\n",
       "      <td>255</td>\n",
       "      <td>5</td>\n",
       "    </tr>\n",
       "    <tr>\n",
       "      <th>4611</th>\n",
       "      <td>209</td>\n",
       "      <td>161</td>\n",
       "      <td>128</td>\n",
       "      <td>119</td>\n",
       "      <td>149</td>\n",
       "      <td>146</td>\n",
       "      <td>176</td>\n",
       "      <td>201</td>\n",
       "      <td>212</td>\n",
       "      <td>229</td>\n",
       "      <td>...</td>\n",
       "      <td>255</td>\n",
       "      <td>255</td>\n",
       "      <td>255</td>\n",
       "      <td>255</td>\n",
       "      <td>255</td>\n",
       "      <td>255</td>\n",
       "      <td>255</td>\n",
       "      <td>255</td>\n",
       "      <td>255</td>\n",
       "      <td>5</td>\n",
       "    </tr>\n",
       "    <tr>\n",
       "      <th>4612</th>\n",
       "      <td>212</td>\n",
       "      <td>213</td>\n",
       "      <td>215</td>\n",
       "      <td>194</td>\n",
       "      <td>164</td>\n",
       "      <td>163</td>\n",
       "      <td>212</td>\n",
       "      <td>253</td>\n",
       "      <td>255</td>\n",
       "      <td>252</td>\n",
       "      <td>...</td>\n",
       "      <td>255</td>\n",
       "      <td>255</td>\n",
       "      <td>255</td>\n",
       "      <td>255</td>\n",
       "      <td>255</td>\n",
       "      <td>254</td>\n",
       "      <td>244</td>\n",
       "      <td>255</td>\n",
       "      <td>254</td>\n",
       "      <td>5</td>\n",
       "    </tr>\n",
       "  </tbody>\n",
       "</table>\n",
       "<p>4613 rows × 2305 columns</p>\n",
       "</div>"
      ],
      "text/plain": [
       "      1x1  1x2  1x3  1x4  1x5  1x6  1x7  1x8  1x9  1x10  ...  48x40  48x41  \\\n",
       "0     255  255  255  156  213  255  255  128   75   167  ...    255    255   \n",
       "1     177  182  161  183  230  255  252  197  150   141  ...    255    255   \n",
       "2     185  165  164  150  110  120  144  135  118   100  ...    243    240   \n",
       "3     255  255  255  255  255  255  255  255  255   255  ...    111    147   \n",
       "4      15   28   56   89  204  255  255  255  255   255  ...    255    205   \n",
       "...   ...  ...  ...  ...  ...  ...  ...  ...  ...   ...  ...    ...    ...   \n",
       "4608  255  255  255  255  255  255  255  255  255   255  ...    255    255   \n",
       "4609  103  160  200  227  243  242  255  255  255   255  ...    255    253   \n",
       "4610  255  255  255  255  255  244  238  240  252   255  ...    255    255   \n",
       "4611  209  161  128  119  149  146  176  201  212   229  ...    255    255   \n",
       "4612  212  213  215  194  164  163  212  253  255   252  ...    255    255   \n",
       "\n",
       "      48x42  48x43  48x44  48x45  48x46  48x47  48x48  label  \n",
       "0       255    255    255    255    124    205    205      0  \n",
       "1       217    251    222     83    107    255    248      0  \n",
       "2       248    255    255    255    255    255     79      0  \n",
       "3       176    203    251    246    234    188     76      0  \n",
       "4       128    192    255    255    192    255    171      0  \n",
       "...     ...    ...    ...    ...    ...    ...    ...    ...  \n",
       "4608    255    255    210    157    127    135    155      5  \n",
       "4609    253    251    251    250    250    253    254      5  \n",
       "4610    255    214    255    255    255    255    255      5  \n",
       "4611    255    255    255    255    255    255    255      5  \n",
       "4612    255    255    255    254    244    255    254      5  \n",
       "\n",
       "[4613 rows x 2305 columns]"
      ]
     },
     "execution_count": 4,
     "metadata": {},
     "output_type": "execute_result"
    }
   ],
   "source": [
    "df = df.drop(['Unnamed: 0'], axis=1)\n",
    "df"
   ]
  },
  {
   "cell_type": "code",
   "execution_count": 40,
   "id": "843c54ec",
   "metadata": {},
   "outputs": [],
   "source": [
    "class_names = ['angry', 'fear', 'happy', 'neutral', 'sad', 'shock']"
   ]
  },
  {
   "cell_type": "code",
   "execution_count": 41,
   "id": "98362cb3",
   "metadata": {},
   "outputs": [
    {
     "data": {
      "text/plain": [
       "Text(0.5, 1.0, 'angry')"
      ]
     },
     "execution_count": 41,
     "metadata": {},
     "output_type": "execute_result"
    },
    {
     "data": {
      "image/png": "[encoded data removed]",
      "text/plain": [
       "<Figure size 640x480 with 1 Axes>"
      ]
     },
     "metadata": {},
     "output_type": "display_data"
    }
   ],
   "source": [
    "plt.imshow(df.iloc[1,:-1].values.reshape(48,48),cmap='gray')\n",
    "class_ = df.iloc[1,-1]\n",
    "plt.title(class_names[class_])"
   ]
  },
  {
   "cell_type": "markdown",
   "id": "aecd7906",
   "metadata": {},
   "source": [
    "# Accessing the images and the labels"
   ]
  },
  {
   "cell_type": "code",
   "execution_count": 5,
   "id": "7a560ce4",
   "metadata": {},
   "outputs": [],
   "source": [
    "# From train.csv\n",
    "x = df.iloc[:, :-1].values\n",
    "y = df.iloc[:, -1].values"
   ]
  },
  {
   "cell_type": "code",
   "execution_count": 6,
   "id": "cfd183b7",
   "metadata": {},
   "outputs": [
    {
     "data": {
      "text/plain": [
       "(array([[255, 255, 255, ..., 124, 205, 205],\n",
       "        [177, 182, 161, ..., 107, 255, 248],\n",
       "        [185, 165, 164, ..., 255, 255,  79],\n",
       "        ...,\n",
       "        [255, 255, 255, ..., 255, 255, 255],\n",
       "        [209, 161, 128, ..., 255, 255, 255],\n",
       "        [212, 213, 215, ..., 244, 255, 254]], dtype=int64),\n",
       " array([0, 0, 0, ..., 5, 5, 5], dtype=int64))"
      ]
     },
     "execution_count": 6,
     "metadata": {},
     "output_type": "execute_result"
    }
   ],
   "source": [
    "x,y"
   ]
  },
  {
   "cell_type": "code",
   "execution_count": 7,
   "id": "6f393efe",
   "metadata": {},
   "outputs": [
    {
     "name": "stdout",
     "output_type": "stream",
     "text": [
      "Feature shape before reshaping: (4613, 2304)\n"
     ]
    }
   ],
   "source": [
    "# Verify feature sizes\n",
    "print(\"Feature shape before reshaping:\", x.shape)\n",
    "\n",
    "# Ensure the correct feature size\n",
    "if x.shape[1] != 48 * 48:\n",
    "    raise ValueError(f\"Each feature should have 2304 elements, but got {x.shape[1]}\")"
   ]
  },
  {
   "cell_type": "markdown",
   "id": "fa133040",
   "metadata": {},
   "source": [
    "# Defining a Custom Dataset"
   ]
  },
  {
   "cell_type": "code",
   "execution_count": 8,
   "id": "1c9ef489",
   "metadata": {},
   "outputs": [],
   "source": [
    "class class_Dataset(Dataset):\n",
    "    def __init__(self, features, labels, transform=None):\n",
    "        self.features = features.astype(np.float32)  # Ensure features are float32\n",
    "        self.labels = labels\n",
    "        self.transform = transform\n",
    "\n",
    "    def __len__(self):\n",
    "        return len(self.labels)\n",
    "\n",
    "    def __getitem__(self, idx):\n",
    "        feature = self.features[idx]\n",
    "        label = self.labels[idx]\n",
    "        \n",
    "        # Reshape the feature into the original image shape (48, 48)\n",
    "        feature = feature.reshape(48, 48)\n",
    "        \n",
    "        if self.transform:\n",
    "            feature = self.transform(feature)\n",
    "        \n",
    "        return feature, label"
   ]
  },
  {
   "cell_type": "markdown",
   "id": "9ed590b3",
   "metadata": {},
   "source": [
    "# Applying transformations to the dataset"
   ]
  },
  {
   "cell_type": "code",
   "execution_count": 9,
   "id": "d449fdca",
   "metadata": {},
   "outputs": [
    {
     "data": {
      "text/plain": [
       "(3690, 3690)"
      ]
     },
     "execution_count": 9,
     "metadata": {},
     "output_type": "execute_result"
    }
   ],
   "source": [
    "# Define transformations for the images\n",
    "transform = transforms.Compose([\n",
    "    transforms.ToTensor(),  # Convert images to PyTorch tensors and scale to [0, 1]\n",
    "    transforms.Normalize(mean=[0.5], std=[0.5])  # Normalize images\n",
    "])\n",
    "\n",
    "# Splitting the dataset into train and test\n",
    "X_train, X_test, y_train, y_test = train_test_split(x,y,test_size=0.2,random_state=42) \n",
    "\n",
    "# Create instances of the custom dataset\n",
    "train_dataset = class_Dataset(X_train, y_train, transform=transform)\n",
    "test_dataset = class_Dataset(X_test, y_test, transform=transform)\n",
    "len(train_dataset),len(train_dataset)"
   ]
  },
  {
   "cell_type": "markdown",
   "id": "9f63f607",
   "metadata": {},
   "source": [
    "# Creating DataLoaders"
   ]
  },
  {
   "cell_type": "code",
   "execution_count": 10,
   "id": "db9c3496",
   "metadata": {},
   "outputs": [
    {
     "data": {
      "text/plain": [
       "(<torch.utils.data.dataloader.DataLoader at 0x24da68ae250>,\n",
       " <torch.utils.data.dataloader.DataLoader at 0x24db94c7690>)"
      ]
     },
     "execution_count": 10,
     "metadata": {},
     "output_type": "execute_result"
    }
   ],
   "source": [
    "train_dataloader = DataLoader(train_dataset, batch_size=64, shuffle=True)\n",
    "test_dataloader = DataLoader(test_dataset, batch_size=64, shuffle=False)\n",
    "train_dataloader,test_dataloader"
   ]
  },
  {
   "cell_type": "markdown",
   "id": "9222aecf",
   "metadata": {},
   "source": [
    "# Setting-up device agnostic code"
   ]
  },
  {
   "cell_type": "code",
   "execution_count": 11,
   "id": "8b5da210",
   "metadata": {},
   "outputs": [
    {
     "data": {
      "text/plain": [
       "device(type='cuda')"
      ]
     },
     "execution_count": 11,
     "metadata": {},
     "output_type": "execute_result"
    }
   ],
   "source": [
    "device = torch.device('cuda') if torch.cuda.is_available else torch.device('cpu')\n",
    "# device = torch.device('cpu')\n",
    "device"
   ]
  },
  {
   "cell_type": "markdown",
   "id": "75bd880e",
   "metadata": {},
   "source": [
    "# Building the Model"
   ]
  },
  {
   "cell_type": "code",
   "execution_count": 12,
   "id": "7dfbf102",
   "metadata": {},
   "outputs": [
    {
     "data": {
      "text/plain": [
       "DetectionModel(\n",
       "  (block1): Sequential(\n",
       "    (0): Conv2d(1, 32, kernel_size=(3, 3), stride=(1, 1), padding=(1, 1))\n",
       "    (1): ReLU()\n",
       "    (2): Conv2d(32, 64, kernel_size=(3, 3), stride=(1, 1), padding=(1, 1))\n",
       "    (3): ReLU()\n",
       "    (4): MaxPool2d(kernel_size=3, stride=3, padding=1, dilation=1, ceil_mode=False)\n",
       "  )\n",
       "  (block2): Sequential(\n",
       "    (0): Conv2d(64, 128, kernel_size=(3, 3), stride=(1, 1), padding=(1, 1))\n",
       "    (1): ReLU()\n",
       "    (2): Conv2d(128, 128, kernel_size=(3, 3), stride=(1, 1), padding=(1, 1))\n",
       "    (3): ReLU()\n",
       "    (4): MaxPool2d(kernel_size=3, stride=3, padding=1, dilation=1, ceil_mode=False)\n",
       "  )\n",
       "  (block3): Sequential(\n",
       "    (0): Conv2d(128, 256, kernel_size=(3, 3), stride=(1, 1), padding=(1, 1))\n",
       "    (1): ReLU()\n",
       "    (2): Conv2d(256, 256, kernel_size=(3, 3), stride=(1, 1), padding=(1, 1))\n",
       "    (3): ReLU()\n",
       "  )\n",
       "  (classifier): Sequential(\n",
       "    (0): Flatten(start_dim=1, end_dim=-1)\n",
       "    (1): Linear(in_features=9216, out_features=1024, bias=True)\n",
       "    (2): ReLU()\n",
       "    (3): Linear(in_features=1024, out_features=1024, bias=True)\n",
       "    (4): ReLU()\n",
       "    (5): Linear(in_features=1024, out_features=6, bias=True)\n",
       "  )\n",
       ")"
      ]
     },
     "execution_count": 12,
     "metadata": {},
     "output_type": "execute_result"
    }
   ],
   "source": [
    "class DetectionModel(nn.Module):\n",
    "    def __init__(self):\n",
    "        super().__init__()\n",
    "        self.block1 = nn.Sequential(\n",
    "            nn.Conv2d(in_channels=1,out_channels=32,kernel_size=3,padding=1),\n",
    "            nn.ReLU(),\n",
    "            nn.Conv2d(in_channels=32,out_channels=64,kernel_size=3,padding=1),\n",
    "            nn.ReLU(),\n",
    "            nn.MaxPool2d(kernel_size=3,padding=1)\n",
    "        )\n",
    "        \n",
    "        self.block2 = nn.Sequential(\n",
    "            nn.Conv2d(in_channels=64,out_channels=128,kernel_size=3,padding=1),\n",
    "            nn.ReLU(),\n",
    "            nn.Conv2d(in_channels=128,out_channels=128,kernel_size=3,padding=1),\n",
    "            nn.ReLU(),\n",
    "            nn.MaxPool2d(kernel_size=3,padding=1)\n",
    "        )\n",
    "        \n",
    "        self.block3 = nn.Sequential(\n",
    "            nn.Conv2d(in_channels=128,out_channels=256,kernel_size=3,padding=1),\n",
    "            nn.ReLU(),\n",
    "            nn.Conv2d(in_channels=256,out_channels=256,kernel_size=3,padding=1),\n",
    "            nn.ReLU()\n",
    "        )\n",
    "        \n",
    "        self.classifier = nn.Sequential(\n",
    "            nn.Flatten(),\n",
    "            nn.Linear(9216,1024),\n",
    "            nn.ReLU(),\n",
    "            nn.Linear(1024,1024),\n",
    "            nn.ReLU(),\n",
    "            nn.Linear(1024,6)\n",
    "        )\n",
    "    \n",
    "    def forward(self,x):\n",
    "        x = self.block1(x)\n",
    "        x = self.block2(x)\n",
    "        x = self.block3(x)\n",
    "        x = self.classifier(x)\n",
    "        \n",
    "        return x\n",
    "    \n",
    "model = DetectionModel().to(device)\n",
    "model"
   ]
  },
  {
   "cell_type": "code",
   "execution_count": 13,
   "id": "b6e82bd7",
   "metadata": {},
   "outputs": [
    {
     "data": {
      "text/plain": [
       "=================================================================\n",
       "Layer (type:depth-idx)                   Param #\n",
       "=================================================================\n",
       "DetectionModel                           --\n",
       "├─Sequential: 1-1                        --\n",
       "│    └─Conv2d: 2-1                       320\n",
       "│    └─ReLU: 2-2                         --\n",
       "│    └─Conv2d: 2-3                       18,496\n",
       "│    └─ReLU: 2-4                         --\n",
       "│    └─MaxPool2d: 2-5                    --\n",
       "├─Sequential: 1-2                        --\n",
       "│    └─Conv2d: 2-6                       73,856\n",
       "│    └─ReLU: 2-7                         --\n",
       "│    └─Conv2d: 2-8                       147,584\n",
       "│    └─ReLU: 2-9                         --\n",
       "│    └─MaxPool2d: 2-10                   --\n",
       "├─Sequential: 1-3                        --\n",
       "│    └─Conv2d: 2-11                      295,168\n",
       "│    └─ReLU: 2-12                        --\n",
       "│    └─Conv2d: 2-13                      590,080\n",
       "│    └─ReLU: 2-14                        --\n",
       "├─Sequential: 1-4                        --\n",
       "│    └─Flatten: 2-15                     --\n",
       "│    └─Linear: 2-16                      9,438,208\n",
       "│    └─ReLU: 2-17                        --\n",
       "│    └─Linear: 2-18                      1,049,600\n",
       "│    └─ReLU: 2-19                        --\n",
       "│    └─Linear: 2-20                      6,150\n",
       "=================================================================\n",
       "Total params: 11,619,462\n",
       "Trainable params: 11,619,462\n",
       "Non-trainable params: 0\n",
       "================================================================="
      ]
     },
     "execution_count": 13,
     "metadata": {},
     "output_type": "execute_result"
    }
   ],
   "source": [
    "summary(model,input_shape=(1,1,48,48))"
   ]
  },
  {
   "cell_type": "markdown",
   "id": "77db65f1",
   "metadata": {},
   "source": [
    "# Setting-up Loss Function and optimizer"
   ]
  },
  {
   "cell_type": "code",
   "execution_count": 18,
   "id": "01ed4130",
   "metadata": {},
   "outputs": [],
   "source": [
    "loss_fn = nn.CrossEntropyLoss()\n",
    "optimizer = torch.optim.Adam(params=model.parameters(),lr=0.00001)"
   ]
  },
  {
   "cell_type": "markdown",
   "id": "2297c76a",
   "metadata": {},
   "source": [
    "# Code for stopping the training loop early"
   ]
  },
  {
   "cell_type": "code",
   "execution_count": 19,
   "id": "395fdc02",
   "metadata": {},
   "outputs": [],
   "source": [
    "# Early stopping class definition (if not already defined)\n",
    "class EarlyStopping:\n",
    "    def __init__(self, patience=10, verbose=False, delta=0):\n",
    "        self.patience = patience\n",
    "        self.verbose = verbose\n",
    "        self.counter = 0\n",
    "        self.best_score = None\n",
    "        self.early_stop = False\n",
    "        self.delta = delta\n",
    "\n",
    "    def __call__(self, val_loss, model):\n",
    "        score = -val_loss\n",
    "\n",
    "        if self.best_score is None:\n",
    "            self.best_score = score\n",
    "            self.save_checkpoint(val_loss, model)\n",
    "        elif score < self.best_score + self.delta:\n",
    "            self.counter += 1\n",
    "            if self.verbose:\n",
    "                print(f'EarlyStopping counter: {self.counter} out of {self.patience}')\n",
    "            if self.counter >= self.patience:\n",
    "                self.early_stop = True\n",
    "        else:\n",
    "            self.best_score = score\n",
    "            self.save_checkpoint(val_loss, model)\n",
    "            self.counter = 0\n",
    "\n",
    "    def save_checkpoint(self, val_loss, model):\n",
    "        torch.save(model.state_dict(), 'checkpoint.pth')\n",
    "        if self.verbose:\n",
    "            print(f'Validation loss decreased. Saving model ...')\n",
    "\n",
    "# Initialize early stopping\n",
    "early_stopping = EarlyStopping(patience=10, verbose=True)"
   ]
  },
  {
   "cell_type": "code",
   "execution_count": 20,
   "id": "5a4b1a26",
   "metadata": {
    "scrolled": true
   },
   "outputs": [
    {
     "name": "stdout",
     "output_type": "stream",
     "text": [
      "Shape of image: torch.Size([64, 1, 48, 48]) | Shape of label: torch.Size([64])\n"
     ]
    }
   ],
   "source": [
    "train_images,train_labels = next(iter(train_dataloader))\n",
    "print(f\"Shape of image: {train_images.shape} | Shape of label: {train_labels.shape}\")"
   ]
  },
  {
   "cell_type": "markdown",
   "id": "29067265",
   "metadata": {},
   "source": [
    "# Making the Training Loop"
   ]
  },
  {
   "cell_type": "code",
   "execution_count": 21,
   "id": "cda01aba",
   "metadata": {
    "scrolled": true
   },
   "outputs": [
    {
     "data": {
      "application/vnd.jupyter.widget-view+json": {
       "model_id": "227071dc70df498784822e3a36438762",
       "version_major": 2,
       "version_minor": 0
      },
      "text/plain": [
       "  0%|          | 0/60 [00:00<?, ?it/s]"
      ]
     },
     "metadata": {},
     "output_type": "display_data"
    },
    {
     "name": "stdout",
     "output_type": "stream",
     "text": [
      "Epoch [1/60] | Train Loss: 1.5535 | Train Accuracy: 42.60% | Test Loss: 1.4482 | Test Accuracy: 41.17%\n",
      "Epoch [2/60] | Train Loss: 1.2267 | Train Accuracy: 55.47% | Test Loss: 1.1458 | Test Accuracy: 54.60%\n",
      "Epoch [3/60] | Train Loss: 1.0110 | Train Accuracy: 62.09% | Test Loss: 1.0375 | Test Accuracy: 57.96%\n",
      "Epoch [4/60] | Train Loss: 0.8773 | Train Accuracy: 67.43% | Test Loss: 0.9593 | Test Accuracy: 60.89%\n",
      "Epoch [5/60] | Train Loss: 0.7861 | Train Accuracy: 70.35% | Test Loss: 0.8843 | Test Accuracy: 65.11%\n",
      "Epoch [6/60] | Train Loss: 0.7631 | Train Accuracy: 70.70% | Test Loss: 0.8852 | Test Accuracy: 65.66%\n",
      "Epoch [7/60] | Train Loss: 0.7151 | Train Accuracy: 73.31% | Test Loss: 0.8738 | Test Accuracy: 66.09%\n",
      "Epoch [8/60] | Train Loss: 0.6842 | Train Accuracy: 74.28% | Test Loss: 0.8279 | Test Accuracy: 66.52%\n",
      "Epoch [9/60] | Train Loss: 0.6499 | Train Accuracy: 75.69% | Test Loss: 0.8035 | Test Accuracy: 68.91%\n",
      "Epoch [10/60] | Train Loss: 0.6284 | Train Accuracy: 75.85% | Test Loss: 0.7757 | Test Accuracy: 69.01%\n",
      "Epoch [11/60] | Train Loss: 0.5961 | Train Accuracy: 77.51% | Test Loss: 0.7600 | Test Accuracy: 70.86%\n",
      "Epoch [12/60] | Train Loss: 0.5739 | Train Accuracy: 78.46% | Test Loss: 0.7692 | Test Accuracy: 71.40%\n",
      "Epoch [13/60] | Train Loss: 0.5491 | Train Accuracy: 79.49% | Test Loss: 0.7789 | Test Accuracy: 69.56%\n",
      "Epoch [14/60] | Train Loss: 0.5340 | Train Accuracy: 80.89% | Test Loss: 0.7293 | Test Accuracy: 72.05%\n",
      "Epoch [15/60] | Train Loss: 0.4994 | Train Accuracy: 82.20% | Test Loss: 0.7649 | Test Accuracy: 70.96%\n",
      "Epoch [16/60] | Train Loss: 0.5055 | Train Accuracy: 81.11% | Test Loss: 0.7043 | Test Accuracy: 74.76%\n",
      "Epoch [17/60] | Train Loss: 0.4685 | Train Accuracy: 83.39% | Test Loss: 0.7754 | Test Accuracy: 70.86%\n",
      "Epoch [18/60] | Train Loss: 0.4509 | Train Accuracy: 83.77% | Test Loss: 0.7608 | Test Accuracy: 71.61%\n",
      "Epoch [19/60] | Train Loss: 0.4441 | Train Accuracy: 83.58% | Test Loss: 0.6823 | Test Accuracy: 74.86%\n",
      "Epoch [20/60] | Train Loss: 0.4286 | Train Accuracy: 85.09% | Test Loss: 0.6901 | Test Accuracy: 74.00%\n",
      "Epoch [21/60] | Train Loss: 0.4160 | Train Accuracy: 85.18% | Test Loss: 0.7197 | Test Accuracy: 73.56%\n",
      "Epoch [22/60] | Train Loss: 0.3838 | Train Accuracy: 86.61% | Test Loss: 0.7312 | Test Accuracy: 71.40%\n",
      "Epoch [23/60] | Train Loss: 0.3686 | Train Accuracy: 86.83% | Test Loss: 0.7001 | Test Accuracy: 73.35%\n",
      "Epoch [24/60] | Train Loss: 0.3485 | Train Accuracy: 88.05% | Test Loss: 0.6984 | Test Accuracy: 74.00%\n",
      "Epoch [25/60] | Train Loss: 0.3254 | Train Accuracy: 88.97% | Test Loss: 0.7061 | Test Accuracy: 74.00%\n",
      "Epoch [26/60] | Train Loss: 0.3168 | Train Accuracy: 89.32% | Test Loss: 0.6893 | Test Accuracy: 74.65%\n",
      "Epoch [27/60] | Train Loss: 0.2955 | Train Accuracy: 90.00% | Test Loss: 0.7167 | Test Accuracy: 74.11%\n",
      "Epoch [28/60] | Train Loss: 0.2788 | Train Accuracy: 91.11% | Test Loss: 0.6937 | Test Accuracy: 75.08%\n",
      "Epoch [29/60] | Train Loss: 0.2632 | Train Accuracy: 91.57% | Test Loss: 0.6801 | Test Accuracy: 76.06%\n",
      "Epoch [30/60] | Train Loss: 0.2489 | Train Accuracy: 92.85% | Test Loss: 0.6915 | Test Accuracy: 75.51%\n",
      "Epoch [31/60] | Train Loss: 0.2439 | Train Accuracy: 92.52% | Test Loss: 0.6760 | Test Accuracy: 76.16%\n",
      "Epoch [32/60] | Train Loss: 0.2159 | Train Accuracy: 93.85% | Test Loss: 0.6994 | Test Accuracy: 74.97%\n",
      "Epoch [33/60] | Train Loss: 0.2128 | Train Accuracy: 93.96% | Test Loss: 0.7780 | Test Accuracy: 74.00%\n",
      "Epoch [34/60] | Train Loss: 0.2008 | Train Accuracy: 94.61% | Test Loss: 0.6861 | Test Accuracy: 76.71%\n",
      "Epoch [35/60] | Train Loss: 0.1860 | Train Accuracy: 94.99% | Test Loss: 0.7120 | Test Accuracy: 75.84%\n",
      "Epoch [36/60] | Train Loss: 0.1726 | Train Accuracy: 95.42% | Test Loss: 0.7400 | Test Accuracy: 74.86%\n",
      "Epoch [37/60] | Train Loss: 0.1666 | Train Accuracy: 95.23% | Test Loss: 0.7513 | Test Accuracy: 74.43%\n",
      "Epoch [38/60] | Train Loss: 0.1487 | Train Accuracy: 96.29% | Test Loss: 0.7041 | Test Accuracy: 77.90%\n",
      "Epoch [39/60] | Train Loss: 0.1435 | Train Accuracy: 96.18% | Test Loss: 0.7252 | Test Accuracy: 77.14%\n",
      "Epoch [40/60] | Train Loss: 0.1330 | Train Accuracy: 96.88% | Test Loss: 0.7573 | Test Accuracy: 76.06%\n",
      "Epoch [41/60] | Train Loss: 0.1245 | Train Accuracy: 96.88% | Test Loss: 0.7299 | Test Accuracy: 77.36%\n",
      "Epoch [42/60] | Train Loss: 0.1072 | Train Accuracy: 97.48% | Test Loss: 0.7488 | Test Accuracy: 77.25%\n",
      "Epoch [43/60] | Train Loss: 0.1032 | Train Accuracy: 97.78% | Test Loss: 0.7641 | Test Accuracy: 76.71%\n",
      "Epoch [44/60] | Train Loss: 0.0966 | Train Accuracy: 97.94% | Test Loss: 0.7729 | Test Accuracy: 76.49%\n",
      "Epoch [45/60] | Train Loss: 0.0882 | Train Accuracy: 98.08% | Test Loss: 0.7570 | Test Accuracy: 78.11%\n",
      "Epoch [46/60] | Train Loss: 0.0800 | Train Accuracy: 98.59% | Test Loss: 0.7512 | Test Accuracy: 78.11%\n",
      "Epoch [47/60] | Train Loss: 0.0740 | Train Accuracy: 98.62% | Test Loss: 0.7805 | Test Accuracy: 77.25%\n",
      "Epoch [48/60] | Train Loss: 0.0657 | Train Accuracy: 99.13% | Test Loss: 0.8033 | Test Accuracy: 77.03%\n",
      "Epoch [49/60] | Train Loss: 0.0716 | Train Accuracy: 98.97% | Test Loss: 0.8262 | Test Accuracy: 76.71%\n",
      "Epoch [50/60] | Train Loss: 0.0549 | Train Accuracy: 99.49% | Test Loss: 0.8273 | Test Accuracy: 77.79%\n",
      "Epoch [51/60] | Train Loss: 0.0545 | Train Accuracy: 99.27% | Test Loss: 0.8468 | Test Accuracy: 76.81%\n",
      "Epoch [52/60] | Train Loss: 0.0440 | Train Accuracy: 99.70% | Test Loss: 0.8394 | Test Accuracy: 76.92%\n",
      "Epoch [53/60] | Train Loss: 0.0405 | Train Accuracy: 99.73% | Test Loss: 0.8671 | Test Accuracy: 76.92%\n",
      "Epoch [54/60] | Train Loss: 0.0414 | Train Accuracy: 99.70% | Test Loss: 0.8461 | Test Accuracy: 77.79%\n",
      "Epoch [55/60] | Train Loss: 0.0440 | Train Accuracy: 99.32% | Test Loss: 0.8540 | Test Accuracy: 77.03%\n",
      "Epoch [56/60] | Train Loss: 0.0324 | Train Accuracy: 99.92% | Test Loss: 0.8916 | Test Accuracy: 77.03%\n",
      "Epoch [57/60] | Train Loss: 0.0283 | Train Accuracy: 99.92% | Test Loss: 0.8807 | Test Accuracy: 77.90%\n",
      "Epoch [58/60] | Train Loss: 0.0300 | Train Accuracy: 99.84% | Test Loss: 0.8660 | Test Accuracy: 78.33%\n",
      "Epoch [59/60] | Train Loss: 0.0221 | Train Accuracy: 100.00% | Test Loss: 0.8803 | Test Accuracy: 77.90%\n",
      "Epoch [60/60] | Train Loss: 0.0201 | Train Accuracy: 100.00% | Test Loss: 0.9475 | Test Accuracy: 77.36%\n"
     ]
    },
    {
     "data": {
      "text/plain": [
       "<All keys matched successfully>"
      ]
     },
     "execution_count": 21,
     "metadata": {},
     "output_type": "execute_result"
    }
   ],
   "source": [
    "# Training loop\n",
    "num_epochs = 60\n",
    "trainloss, testloss = [], []\n",
    "trainaccuracy, testaccuracy = [], []\n",
    "\n",
    "for epoch in tqdm(range(num_epochs)):\n",
    "    model.train()\n",
    "    running_train_loss = 0.0\n",
    "    correct_train = 0\n",
    "    \n",
    "    for train_images, train_labels in train_dataloader:\n",
    "        train_images, train_labels = train_images.to(device), train_labels.to(device)\n",
    "        optimizer.zero_grad()\n",
    "        outputs = model(train_images)\n",
    "        train_loss = loss_fn(outputs, train_labels)\n",
    "        train_loss.backward()\n",
    "        optimizer.step()\n",
    "        \n",
    "        _, train_pred = torch.max(outputs.data, dim=1)\n",
    "        correct_train += (train_pred == train_labels).sum().item()\n",
    "        running_train_loss += train_loss.item()\n",
    "    \n",
    "    avg_train_loss = running_train_loss / len(train_dataloader)\n",
    "    train_accuracy = 100 * correct_train / len(train_dataloader.dataset)\n",
    "    \n",
    "    model.eval()\n",
    "    running_test_loss = 0.0\n",
    "    correct_test = 0\n",
    "    \n",
    "    with torch.no_grad():\n",
    "        for test_images, test_labels in test_dataloader:\n",
    "            test_images, test_labels = test_images.to(device), test_labels.to(device)\n",
    "#             train_labels = train_labels.view(train_images.size(0), train_images.size(2), train_images.size(3))\n",
    "#             print(train_images.shape)\n",
    "#             print(train_labels.shape)\n",
    "            test_outputs = model(test_images)\n",
    "            test_loss = loss_fn(test_outputs, test_labels)\n",
    "            _, test_pred = torch.max(test_outputs.data, 1)\n",
    "            correct_test += (test_pred == test_labels).sum().item()\n",
    "            running_test_loss += test_loss.item()\n",
    "    \n",
    "    avg_test_loss = running_test_loss / len(test_dataloader)\n",
    "    test_accuracy = 100 * correct_test / len(test_dataloader.dataset)\n",
    "    \n",
    "    trainloss.append(avg_train_loss)\n",
    "    testloss.append(avg_test_loss)\n",
    "    trainaccuracy.append(train_accuracy)\n",
    "    testaccuracy.append(test_accuracy)\n",
    "    \n",
    "    print(f'Epoch [{epoch + 1}/{num_epochs}] | Train Loss: {avg_train_loss:.4f} | Train Accuracy: {train_accuracy:.2f}% | Test Loss: {avg_test_loss:.4f} | Test Accuracy: {test_accuracy:.2f}%')\n",
    "    \n",
    "#     early_stopping(avg_test_loss, model)\n",
    "#     if early_stopping.early_stop:\n",
    "#         print(\"Early stopping\")\n",
    "#         break\n",
    "\n",
    "# Load the last checkpoint with the best model\n",
    "model.load_state_dict(torch.load('checkpoint.pth'))\n"
   ]
  },
  {
   "cell_type": "code",
   "execution_count": 22,
   "id": "15e99177",
   "metadata": {},
   "outputs": [],
   "source": [
    "torch.save(model,'./mood-detector.pth')"
   ]
  },
  {
   "cell_type": "code",
   "execution_count": 26,
   "id": "28d46e87",
   "metadata": {},
   "outputs": [
    {
     "data": {
      "text/plain": [
       "array([ 0,  1,  2,  3,  4,  5,  6,  7,  8,  9, 10, 11, 12, 13, 14, 15, 16,\n",
       "       17, 18, 19, 20, 21, 22, 23, 24, 25, 26, 27, 28, 29, 30, 31, 32, 33,\n",
       "       34, 35, 36, 37, 38, 39, 40, 41, 42, 43, 44, 45, 46, 47, 48, 49, 50,\n",
       "       51, 52, 53, 54, 55, 56, 57, 58, 59])"
      ]
     },
     "execution_count": 26,
     "metadata": {},
     "output_type": "execute_result"
    }
   ],
   "source": [
    "epochs = np.arange(0,60,1)\n",
    "epochs"
   ]
  },
  {
   "cell_type": "code",
   "execution_count": 27,
   "id": "f50837d5",
   "metadata": {},
   "outputs": [
    {
     "data": {
      "image/png": "[encoded data removed]",
      "text/plain": [
       "<Figure size 640x480 with 1 Axes>"
      ]
     },
     "metadata": {},
     "output_type": "display_data"
    }
   ],
   "source": [
    "plt.plot(epochs,trainaccuracy,label='train')\n",
    "plt.plot(epochs,testaccuracy,label='test')\n",
    "plt.xlabel(\"epochs\")\n",
    "plt.ylabel(\"Accuracy\")\n",
    "plt.title(\"Accuracy Curves\")\n",
    "plt.legend()\n",
    "plt.show()"
   ]
  },
  {
   "cell_type": "code",
   "execution_count": 28,
   "id": "f11036d0",
   "metadata": {},
   "outputs": [
    {
     "data": {
      "image/png": "[encoded data removed]",
      "text/plain": [
       "<Figure size 640x480 with 1 Axes>"
      ]
     },
     "metadata": {},
     "output_type": "display_data"
    }
   ],
   "source": [
    "plt.plot(epochs,trainloss,label='train')\n",
    "plt.plot(epochs,testloss,label='test')\n",
    "plt.xlabel(\"epochs\")\n",
    "plt.ylabel(\"Loss\")\n",
    "plt.title(\"Loss Curves\")\n",
    "plt.legend()\n",
    "plt.show()"
   ]
  },
  {
   "cell_type": "code",
   "execution_count": 4,
   "id": "0960681c",
   "metadata": {},
   "outputs": [
    {
     "ename": "AttributeError",
     "evalue": "Can't get attribute 'DetectionModel' on <module '__main__'>",
     "output_type": "error",
     "traceback": [
      "\u001b[1;31m---------------------------------------------------------------------------\u001b[0m",
      "\u001b[1;31mAttributeError\u001b[0m                            Traceback (most recent call last)",
      "Cell \u001b[1;32mIn[4], line 1\u001b[0m\n\u001b[1;32m----> 1\u001b[0m model \u001b[38;5;241m=\u001b[39m torch\u001b[38;5;241m.\u001b[39mload(\u001b[38;5;124m\"\u001b[39m\u001b[38;5;124m./mood-detector.pth\u001b[39m\u001b[38;5;124m\"\u001b[39m,map_location\u001b[38;5;241m=\u001b[39mtorch\u001b[38;5;241m.\u001b[39mdevice(\u001b[38;5;124m'\u001b[39m\u001b[38;5;124mcpu\u001b[39m\u001b[38;5;124m'\u001b[39m))\n",
      "File \u001b[1;32m~\\anaconda3\\Lib\\site-packages\\torch\\serialization.py:1026\u001b[0m, in \u001b[0;36mload\u001b[1;34m(f, map_location, pickle_module, weights_only, mmap, **pickle_load_args)\u001b[0m\n\u001b[0;32m   1024\u001b[0m             \u001b[38;5;28;01mexcept\u001b[39;00m \u001b[38;5;167;01mRuntimeError\u001b[39;00m \u001b[38;5;28;01mas\u001b[39;00m e:\n\u001b[0;32m   1025\u001b[0m                 \u001b[38;5;28;01mraise\u001b[39;00m pickle\u001b[38;5;241m.\u001b[39mUnpicklingError(UNSAFE_MESSAGE \u001b[38;5;241m+\u001b[39m \u001b[38;5;28mstr\u001b[39m(e)) \u001b[38;5;28;01mfrom\u001b[39;00m \u001b[38;5;28;01mNone\u001b[39;00m\n\u001b[1;32m-> 1026\u001b[0m         \u001b[38;5;28;01mreturn\u001b[39;00m _load(opened_zipfile,\n\u001b[0;32m   1027\u001b[0m                      map_location,\n\u001b[0;32m   1028\u001b[0m                      pickle_module,\n\u001b[0;32m   1029\u001b[0m                      overall_storage\u001b[38;5;241m=\u001b[39moverall_storage,\n\u001b[0;32m   1030\u001b[0m                      \u001b[38;5;241m*\u001b[39m\u001b[38;5;241m*\u001b[39mpickle_load_args)\n\u001b[0;32m   1031\u001b[0m \u001b[38;5;28;01mif\u001b[39;00m mmap:\n\u001b[0;32m   1032\u001b[0m     \u001b[38;5;28;01mraise\u001b[39;00m \u001b[38;5;167;01mRuntimeError\u001b[39;00m(\u001b[38;5;124m\"\u001b[39m\u001b[38;5;124mmmap can only be used with files saved with \u001b[39m\u001b[38;5;124m\"\u001b[39m\n\u001b[0;32m   1033\u001b[0m                        \u001b[38;5;124m\"\u001b[39m\u001b[38;5;124m`torch.save(_use_new_zipfile_serialization=True), \u001b[39m\u001b[38;5;124m\"\u001b[39m\n\u001b[0;32m   1034\u001b[0m                        \u001b[38;5;124m\"\u001b[39m\u001b[38;5;124mplease torch.save your checkpoint with this option in order to use mmap.\u001b[39m\u001b[38;5;124m\"\u001b[39m)\n",
      "File \u001b[1;32m~\\anaconda3\\Lib\\site-packages\\torch\\serialization.py:1438\u001b[0m, in \u001b[0;36m_load\u001b[1;34m(zip_file, map_location, pickle_module, pickle_file, overall_storage, **pickle_load_args)\u001b[0m\n\u001b[0;32m   1436\u001b[0m unpickler \u001b[38;5;241m=\u001b[39m UnpicklerWrapper(data_file, \u001b[38;5;241m*\u001b[39m\u001b[38;5;241m*\u001b[39mpickle_load_args)\n\u001b[0;32m   1437\u001b[0m unpickler\u001b[38;5;241m.\u001b[39mpersistent_load \u001b[38;5;241m=\u001b[39m persistent_load\n\u001b[1;32m-> 1438\u001b[0m result \u001b[38;5;241m=\u001b[39m unpickler\u001b[38;5;241m.\u001b[39mload()\n\u001b[0;32m   1440\u001b[0m torch\u001b[38;5;241m.\u001b[39m_utils\u001b[38;5;241m.\u001b[39m_validate_loaded_sparse_tensors()\n\u001b[0;32m   1441\u001b[0m torch\u001b[38;5;241m.\u001b[39m_C\u001b[38;5;241m.\u001b[39m_log_api_usage_metadata(\n\u001b[0;32m   1442\u001b[0m     \u001b[38;5;124m\"\u001b[39m\u001b[38;5;124mtorch.load.metadata\u001b[39m\u001b[38;5;124m\"\u001b[39m, {\u001b[38;5;124m\"\u001b[39m\u001b[38;5;124mserialization_id\u001b[39m\u001b[38;5;124m\"\u001b[39m: zip_file\u001b[38;5;241m.\u001b[39mserialization_id()}\n\u001b[0;32m   1443\u001b[0m )\n",
      "File \u001b[1;32m~\\anaconda3\\Lib\\site-packages\\torch\\serialization.py:1431\u001b[0m, in \u001b[0;36m_load.<locals>.UnpicklerWrapper.find_class\u001b[1;34m(self, mod_name, name)\u001b[0m\n\u001b[0;32m   1429\u001b[0m         \u001b[38;5;28;01mpass\u001b[39;00m\n\u001b[0;32m   1430\u001b[0m mod_name \u001b[38;5;241m=\u001b[39m load_module_mapping\u001b[38;5;241m.\u001b[39mget(mod_name, mod_name)\n\u001b[1;32m-> 1431\u001b[0m \u001b[38;5;28;01mreturn\u001b[39;00m \u001b[38;5;28msuper\u001b[39m()\u001b[38;5;241m.\u001b[39mfind_class(mod_name, name)\n",
      "\u001b[1;31mAttributeError\u001b[0m: Can't get attribute 'DetectionModel' on <module '__main__'>"
     ]
    }
   ],
   "source": [
    "model = torch.load(\"./mood-detector.pth\",map_location=torch.device('cpu'))"
   ]
  },
  {
   "cell_type": "code",
   "execution_count": 68,
   "id": "096a9bf3",
   "metadata": {},
   "outputs": [
    {
     "data": {
      "text/plain": [
       "(array([255., 255., 228., ..., 255., 255., 255.], dtype=float32),\n",
       " tensor([255., 255., 228.,  ..., 255., 255., 255.]),\n",
       " 'shock')"
      ]
     },
     "execution_count": 68,
     "metadata": {},
     "output_type": "execute_result"
    }
   ],
   "source": [
    "img_arr = df.iloc[4500,:-1].values\n",
    "img_arr = img_arr.astype('float32')\n",
    "img_tensor = torch.tensor(img_arr)\n",
    "class_original = df.iloc[4500,-1]\n",
    "class_name = class_names[class_original]\n",
    "img_arr , img_tensor , class_name"
   ]
  },
  {
   "cell_type": "code",
   "execution_count": 69,
   "id": "1f34240f",
   "metadata": {},
   "outputs": [
    {
     "data": {
      "text/plain": [
       "'shock'"
      ]
     },
     "execution_count": 69,
     "metadata": {},
     "output_type": "execute_result"
    }
   ],
   "source": [
    "# img_tensor = img_tensor.type('float32')\n",
    "img_tensor = img_tensor.reshape(1,1,48,48)\n",
    "logit = model(img_tensor)\n",
    "pred = torch.softmax(logit.squeeze(),dim=0)\n",
    "class_ = torch.argmax(pred).item()\n",
    "class_name = class_names[class_]\n",
    "class_name"
   ]
  },
  {
   "cell_type": "code",
   "execution_count": 67,
   "id": "6578a545",
   "metadata": {},
   "outputs": [
    {
     "data": {
      "text/plain": [
       "[]"
      ]
     },
     "execution_count": 67,
     "metadata": {},
     "output_type": "execute_result"
    },
    {
     "data": {
      "image/png": "[encoded data removed]",
      "text/plain": [
       "<Figure size 640x480 with 1 Axes>"
      ]
     },
     "metadata": {},
     "output_type": "display_data"
    }
   ],
   "source": [
    "plt.imshow(img_arr.reshape(48,48),cmap='gray')\n",
    "plt.title(class_name)\n",
    "plt.plot()"
   ]
  },
  {
   "cell_type": "code",
   "execution_count": 114,
   "id": "f86a2349",
   "metadata": {},
   "outputs": [],
   "source": [
    "img_path = \"./arnav.jpg\""
   ]
  },
  {
   "cell_type": "code",
   "execution_count": 115,
   "id": "3817fd7d",
   "metadata": {},
   "outputs": [],
   "source": [
    "img = cv.imread(img_path)\n",
    "img = cv.resize(img,(48,48))\n",
    "gray = cv.cvtColor(img,cv.COLOR_BGR2GRAY)\n",
    "inverted = 255 - gray\n",
    "blurred = cv.GaussianBlur(inverted,(21,21),0)\n",
    "drawing = cv.divide(gray,255 - blurred, scale=256)\n",
    "flat = drawing.flatten()"
   ]
  },
  {
   "cell_type": "code",
   "execution_count": 116,
   "id": "ac018985",
   "metadata": {},
   "outputs": [
    {
     "data": {
      "text/plain": [
       "array([255., 255., 255., ..., 255., 255., 255.], dtype=float32)"
      ]
     },
     "execution_count": 116,
     "metadata": {},
     "output_type": "execute_result"
    }
   ],
   "source": [
    "img_arr = flat.astype('float32')\n",
    "img_arr"
   ]
  },
  {
   "cell_type": "code",
   "execution_count": 119,
   "id": "50305277",
   "metadata": {},
   "outputs": [
    {
     "name": "stdout",
     "output_type": "stream",
     "text": [
      "tensor([1.0900e-02, 3.8143e-02, 1.6976e-01, 7.7991e-01, 1.1173e-03, 1.6647e-04],\n",
      "       grad_fn=<SoftmaxBackward0>)\n",
      "3\n"
     ]
    },
    {
     "data": {
      "text/plain": [
       "'neutral'"
      ]
     },
     "execution_count": 119,
     "metadata": {},
     "output_type": "execute_result"
    }
   ],
   "source": [
    "img_tensor = torch.tensor(img_arr)\n",
    "img_tensor = img_tensor.reshape(1,1,48,48)\n",
    "logit = model(img_tensor)\n",
    "pred = torch.softmax(logit.squeeze(),dim=0)\n",
    "print(pred)\n",
    "class_ = torch.argmax(pred).item()\n",
    "print(class_)\n",
    "class_name = class_names[class_]\n",
    "class_name"
   ]
  },
  {
   "cell_type": "code",
   "execution_count": 118,
   "id": "d264927a",
   "metadata": {},
   "outputs": [
    {
     "data": {
      "text/plain": [
       "Text(0.5, 1.0, 'neutral')"
      ]
     },
     "execution_count": 118,
     "metadata": {},
     "output_type": "execute_result"
    },
    {
     "data": {
      "image/png": "[encoded data removed]",
      "text/plain": [
       "<Figure size 640x480 with 1 Axes>"
      ]
     },
     "metadata": {},
     "output_type": "display_data"
    }
   ],
   "source": [
    "plt.imshow(drawing,cmap='gray')\n",
    "plt.title(class_name)"
   ]
  },
  {
   "cell_type": "code",
   "execution_count": null,
   "id": "61a60f8e",
   "metadata": {},
   "outputs": [],
   "source": []
  }
 ],
 "metadata": {
  "kernelspec": {
   "display_name": "Python 3 (ipykernel)",
   "language": "python",
   "name": "python3"
  },
  "language_info": {
   "codemirror_mode": {
    "name": "ipython",
    "version": 3
   },
   "file_extension": ".py",
   "mimetype": "text/x-python",
   "name": "python",
   "nbconvert_exporter": "python",
   "pygments_lexer": "ipython3",
   "version": "3.11.4"
  }
 },
 "nbformat": 4,
 "nbformat_minor": 5
}
